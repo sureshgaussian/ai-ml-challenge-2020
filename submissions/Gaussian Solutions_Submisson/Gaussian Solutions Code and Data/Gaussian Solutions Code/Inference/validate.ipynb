{
 "metadata": {
  "language_info": {
   "codemirror_mode": {
    "name": "ipython",
    "version": 3
   },
   "file_extension": ".py",
   "mimetype": "text/x-python",
   "name": "python",
   "nbconvert_exporter": "python",
   "pygments_lexer": "ipython3",
   "version": "3.8.5-final"
  },
  "orig_nbformat": 2,
  "kernelspec": {
   "name": "python38364bitnlpcondaea118aa0c40443b09baddc281dabe538",
   "display_name": "Python 3.8.3 64-bit ('nlp': conda)"
  }
 },
 "nbformat": 4,
 "nbformat_minor": 2,
 "cells": [
  {
   "cell_type": "code",
   "execution_count": 1,
   "metadata": {},
   "outputs": [],
   "source": [
    "# trained models, and vectorizer used are pickled for easy of loading\n",
    "import pickle\n"
   ]
  },
  {
   "cell_type": "code",
   "execution_count": 2,
   "metadata": {},
   "outputs": [],
   "source": [
    "# pandas used for reading input file, writing output, and easy manipulation of colums\n",
    "import pandas as pd"
   ]
  },
  {
   "cell_type": "code",
   "execution_count": 3,
   "metadata": {},
   "outputs": [],
   "source": [
    "import sys\n",
    "sys.path.insert(1, '../common')\n",
    "# utility modules for preprocessing of text\n",
    "import nlp_utils as nu\n"
   ]
  },
  {
   "cell_type": "code",
   "execution_count": 4,
   "metadata": {},
   "outputs": [],
   "source": [
    "# loads the model, and vectorizer from pickled files. all gets the preprocessor\n",
    "# these are needed for inferencing of test data\n",
    "def get_model():\n",
    "    model_dict = {}\n",
    "\n",
    "    sys.stdout.flush() \n",
    "    preprocessor = nu.process_text\n",
    "    vectorizer = pickle.load(open('./TFIDF-2vectorizer.pkl', 'rb'))\n",
    "    model = pickle.load(open('./SVM_TFIDF-2.pkl', 'rb'))\n",
    "    model_dict['preprocessor'] = preprocessor\n",
    "    model_dict['vectorizer'] = vectorizer\n",
    "    model_dict['model'] = model\n",
    "    return model_dict"
   ]
  },
  {
   "cell_type": "code",
   "execution_count": 6,
   "metadata": {},
   "outputs": [],
   "source": [
    "# Let's read in the validated data\n",
    "df = pd.read_csv('..\\..\\Gaussian Solutions Input Data\\AI_ML_Challenge_Validation_Data_Set_v1.csv', encoding='utf-8')"
   ]
  },
  {
   "cell_type": "code",
   "execution_count": 7,
   "metadata": {},
   "outputs": [],
   "source": [
    "# renaming the 'Clause Text' column to 'Clause' as the pickled model expects to see 'Clause'\n",
    "df = df.rename(columns = {'Clause Text' : 'Clause'})"
   ]
  },
  {
   "cell_type": "code",
   "execution_count": 8,
   "metadata": {},
   "outputs": [
    {
     "output_type": "execute_result",
     "data": {
      "text/plain": "   Clause ID                                             Clause\n0         94  \\tthe Customer does not make any admissions (s...\n1       7028  Requests. Company will notify Customer before ...\n2       9048  We sometimes release beta versions of our webs...\n3       7755  Termination without Cause. Customer may termin...\n4       1145  1.8 “Term” means the term of this Agreement as...",
      "text/html": "<div>\n<style scoped>\n    .dataframe tbody tr th:only-of-type {\n        vertical-align: middle;\n    }\n\n    .dataframe tbody tr th {\n        vertical-align: top;\n    }\n\n    .dataframe thead th {\n        text-align: right;\n    }\n</style>\n<table border=\"1\" class=\"dataframe\">\n  <thead>\n    <tr style=\"text-align: right;\">\n      <th></th>\n      <th>Clause ID</th>\n      <th>Clause</th>\n    </tr>\n  </thead>\n  <tbody>\n    <tr>\n      <th>0</th>\n      <td>94</td>\n      <td>\\tthe Customer does not make any admissions (s...</td>\n    </tr>\n    <tr>\n      <th>1</th>\n      <td>7028</td>\n      <td>Requests. Company will notify Customer before ...</td>\n    </tr>\n    <tr>\n      <th>2</th>\n      <td>9048</td>\n      <td>We sometimes release beta versions of our webs...</td>\n    </tr>\n    <tr>\n      <th>3</th>\n      <td>7755</td>\n      <td>Termination without Cause. Customer may termin...</td>\n    </tr>\n    <tr>\n      <th>4</th>\n      <td>1145</td>\n      <td>1.8 “Term” means the term of this Agreement as...</td>\n    </tr>\n  </tbody>\n</table>\n</div>"
     },
     "metadata": {},
     "execution_count": 8
    }
   ],
   "source": [
    "df.head()"
   ]
  },
  {
   "cell_type": "code",
   "execution_count": 9,
   "metadata": {
    "tags": []
   },
   "outputs": [],
   "source": [
    "model_dict = get_model()"
   ]
  },
  {
   "cell_type": "code",
   "execution_count": 10,
   "metadata": {},
   "outputs": [],
   "source": [
    "vectorizer = model_dict['vectorizer']\n",
    "model = model_dict['model']\n",
    "preprocessor = model_dict['preprocessor']"
   ]
  },
  {
   "cell_type": "code",
   "execution_count": 11,
   "metadata": {
    "tags": []
   },
   "outputs": [
    {
     "output_type": "stream",
     "name": "stdout",
     "text": "Preprocessing data\n"
    }
   ],
   "source": [
    "# preprocess the data. eliminate puctuations, stop_words, weird characters, and single letter tokens\n",
    "print(\"Preprocessing data\")\n",
    "X_prep = [str(preprocessor(x)) for x in df['Clause'] ]"
   ]
  },
  {
   "cell_type": "code",
   "execution_count": 12,
   "metadata": {
    "tags": []
   },
   "outputs": [
    {
     "output_type": "stream",
     "name": "stdout",
     "text": "Vecotirizng data\n"
    }
   ],
   "source": [
    "# convert the tokens into vectorized representation. \n",
    "print(\"Vecotirizng data\")\n",
    "X_test = vectorizer.transform(X_prep)"
   ]
  },
  {
   "cell_type": "code",
   "execution_count": 13,
   "metadata": {},
   "outputs": [],
   "source": [
    "# now we're ready to prediction.\n",
    "# predict the labels\n",
    "y_pred = model.predict(X_test)"
   ]
  },
  {
   "cell_type": "code",
   "execution_count": 14,
   "metadata": {},
   "outputs": [],
   "source": [
    "# predict the probabilities for the model to return label = 1\n",
    "try:\n",
    "    y_prob = model.predict_proba(X_test)[:,1]\n",
    "except AttributeError:\n",
    "    y_prob = model.decision_function(X_test)    "
   ]
  },
  {
   "cell_type": "code",
   "execution_count": 14,
   "metadata": {},
   "outputs": [],
   "source": [
    "# store the predictions in data frame\n",
    "df['Prediction'] = y_pred"
   ]
  },
  {
   "cell_type": "code",
   "execution_count": 15,
   "metadata": {},
   "outputs": [],
   "source": [
    "# store the probability of acceptable in data frame. By default model returns probability for label = 1, which would return probability of rejection. Need to subtract it from 1 to get probability of acceptance\n",
    "df['Probability Acceptable'] = 1-y_prob"
   ]
  },
  {
   "cell_type": "code",
   "execution_count": 16,
   "metadata": {},
   "outputs": [],
   "source": [
    "# preparing to write out the csv. drop 'Clause Text' from data frame, as submission requested not to include it\n",
    "csv_df = df.drop(columns=['Clause'])"
   ]
  },
  {
   "cell_type": "code",
   "execution_count": 17,
   "metadata": {},
   "outputs": [
    {
     "output_type": "execute_result",
     "data": {
      "text/plain": "   Clause ID  Probability Acceptable\n0         94                0.750429\n1       7028                0.681540\n2       9048                0.666098\n3       7755                0.267153\n4       1145                0.937060",
      "text/html": "<div>\n<style scoped>\n    .dataframe tbody tr th:only-of-type {\n        vertical-align: middle;\n    }\n\n    .dataframe tbody tr th {\n        vertical-align: top;\n    }\n\n    .dataframe thead th {\n        text-align: right;\n    }\n</style>\n<table border=\"1\" class=\"dataframe\">\n  <thead>\n    <tr style=\"text-align: right;\">\n      <th></th>\n      <th>Clause ID</th>\n      <th>Probability Acceptable</th>\n    </tr>\n  </thead>\n  <tbody>\n    <tr>\n      <th>0</th>\n      <td>94</td>\n      <td>0.750429</td>\n    </tr>\n    <tr>\n      <th>1</th>\n      <td>7028</td>\n      <td>0.681540</td>\n    </tr>\n    <tr>\n      <th>2</th>\n      <td>9048</td>\n      <td>0.666098</td>\n    </tr>\n    <tr>\n      <th>3</th>\n      <td>7755</td>\n      <td>0.267153</td>\n    </tr>\n    <tr>\n      <th>4</th>\n      <td>1145</td>\n      <td>0.937060</td>\n    </tr>\n  </tbody>\n</table>\n</div>"
     },
     "metadata": {},
     "execution_count": 17
    }
   ],
   "source": [
    "csv_df.head()"
   ]
  },
  {
   "cell_type": "code",
   "execution_count": 18,
   "metadata": {},
   "outputs": [],
   "source": [
    "# write to CSV file for submission\n",
    "csv_df.to_csv('Gaussian Solutions Validation Data File. csv', index=False)"
   ]
  },
  {
   "cell_type": "code",
   "execution_count": null,
   "metadata": {},
   "outputs": [],
   "source": []
  }
 ]
}